{
 "cells": [
  {
   "cell_type": "code",
   "execution_count": 6,
   "metadata": {},
   "outputs": [
    {
     "name": "stdout",
     "output_type": "stream",
     "text": [
      "$10^{ 0.0 }$ &  2.0  \\\\ \n",
      "$10^{ 1.0 }$ &  2.5937424601000023  \\\\ \n",
      "$10^{ 2.0 }$ &  2.7048138294215285  \\\\ \n",
      "$10^{ 3.0 }$ &  2.7169239322355936  \\\\ \n",
      "$10^{ 4.0 }$ &  2.7181459268249255  \\\\ \n",
      "$10^{ 5.0 }$ &  2.7182682371922975  \\\\ \n",
      "$10^{ 6.0 }$ &  2.7182804690957534  \\\\ \n",
      "$10^{ 7.0 }$ &  2.7182816941320818  \\\\ \n",
      "$10^{ 8.0 }$ &  2.7182817983473577  \\\\ \n",
      "$10^{ 9.0 }$ &  2.7182820520115603  \\\\ \n",
      "$10^{ 10.0 }$ &  2.7182820532347876  \\\\ \n",
      "$10^{ 11.0 }$ &  2.71828205335711  \\\\ \n",
      "$10^{ 12.0 }$ &  2.7185234960372378  \\\\ \n",
      "$10^{ 13.0 }$ &  2.716110034086901  \\\\ \n",
      "$10^{ 14.0 }$ &  2.716110034087023  \\\\ \n",
      "$10^{ 15.0 }$ &  3.035035206549262  \\\\ \n",
      "$10^{ 16.0 }$ &  1.0  \\\\ \n",
      "$10^{ 17.0 }$ &  1.0  \\\\ \n",
      "n_{stop} = 10^{ 17.0 }\n",
      "value converged = 1.0\n"
     ]
    }
   ],
   "source": [
    "import numpy as np\n",
    "\n",
    "def seq(n):\n",
    "    value=(1+(1/n))**n\n",
    "    return value\n",
    "\n",
    "exp=np.arange(0.0000,20.0,1)\n",
    "val=np.zeros(len(exp))\n",
    "\n",
    "for idx,i in enumerate(exp):    \n",
    "        n=10.000**i\n",
    "        val[idx]=seq(n)\n",
    "        print('$10^{',i,'}$ & ',val[idx],' \\\\\\ ')\n",
    "        if idx!=0 and abs(val[idx]-val[idx-1])<1e-13:\n",
    "            print('n_{stop} = 10^{',i,'}')\n",
    "            print('value converged =',val[idx])\n",
    "            break"
   ]
  },
  {
   "cell_type": "code",
   "execution_count": null,
   "metadata": {},
   "outputs": [],
   "source": []
  }
 ],
 "metadata": {
  "kernelspec": {
   "display_name": "Python 3",
   "language": "python",
   "name": "python3"
  },
  "language_info": {
   "codemirror_mode": {
    "name": "ipython",
    "version": 3
   },
   "file_extension": ".py",
   "mimetype": "text/x-python",
   "name": "python",
   "nbconvert_exporter": "python",
   "pygments_lexer": "ipython3",
   "version": "3.6.5"
  }
 },
 "nbformat": 4,
 "nbformat_minor": 2
}
