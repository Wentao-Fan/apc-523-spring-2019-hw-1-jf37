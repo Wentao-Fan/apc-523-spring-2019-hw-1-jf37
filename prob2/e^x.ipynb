{
 "cells": [
  {
   "cell_type": "code",
   "execution_count": 4,
   "metadata": {},
   "outputs": [],
   "source": [
    "import numpy as np\n",
    "import matplotlib.pyplot as pl"
   ]
  },
  {
   "cell_type": "code",
   "execution_count": 5,
   "metadata": {},
   "outputs": [
    {
     "data": {
      "text/plain": [
       "64"
      ]
     },
     "execution_count": 5,
     "metadata": {},
     "output_type": "execute_result"
    }
   ],
   "source": [
    "import numpy.distutils.system_info as sysinfo\n",
    "\n",
    "sysinfo.platform_bits"
   ]
  },
  {
   "cell_type": "code",
   "execution_count": 6,
   "metadata": {},
   "outputs": [],
   "source": [
    "def round_sig(f, p):\n",
    "    return float(('%.' + str(p) + 'e') % f)"
   ]
  },
  {
   "cell_type": "code",
   "execution_count": 7,
   "metadata": {},
   "outputs": [],
   "source": [
    "def expon(x,i):\n",
    "    y=0\n",
    "    if i==0:\n",
    "        y=1\n",
    "    elif i==1:\n",
    "        y=x\n",
    "    else:\n",
    "        y=round_sig(expon(x,i-1)*x,4)\n",
    "    return y"
   ]
  },
  {
   "cell_type": "code",
   "execution_count": 31,
   "metadata": {},
   "outputs": [],
   "source": [
    "def fact(i,den):\n",
    "    y=0\n",
    "    if i==0:\n",
    "        y=1.0000\n",
    "    else:\n",
    "        y=round_sig(den[i-1]*(i*1.0000),4)\n",
    "    return y"
   ]
  },
  {
   "cell_type": "code",
   "execution_count": 32,
   "metadata": {},
   "outputs": [
    {
     "name": "stdout",
     "output_type": "stream",
     "text": [
      "term 1 = 1.0 \\\\ \n",
      "term 2 = 5.5 \\\\ \n",
      "term 3 = 15.125 \\\\ \n",
      "term 4 = 27.73 \\\\ \n",
      "term 5 = 38.129 \\\\ \n",
      "term 6 = 41.942 \\\\ \n",
      "term 7 = 38.447 \\\\ \n",
      "term 8 = 30.208 \\\\ \n",
      "term 9 = 20.768 \\\\ \n",
      "term 10 = 12.692 \\\\ \n",
      "term 11 = 6.9805 \\\\ \n",
      "term 12 = 3.4902 \\\\ \n",
      "term 13 = 1.5997 \\\\ \n",
      "term 14 = 0.67679 \\\\ \n",
      "term 15 = 0.26588 \\\\ \n",
      "term 16 = 0.097484 \\\\ \n",
      "term 17 = 0.03351 \\\\ \n",
      "term 18 = 0.010842 \\\\ \n",
      "term 19 = 0.0033128 \\\\ \n",
      "term 20 = 0.00095898 \\\\ \n",
      "term 21 = 0.00026372 \\\\ \n",
      "term 22 = 6.907e-05 \\\\ \n",
      "term 23 = 1.7269e-05 \\\\ \n",
      "term 24 = 4.1297e-06 \\\\ \n",
      "term 25 = 9.4638e-07 \\\\ \n",
      "term 26 = 2.0821e-07 \\\\ \n",
      "term 27 = 4.4043e-08 \\\\ \n",
      "term 28 = 8.9715e-09 \\\\ \n",
      "term 29 = 1.7623e-09 \\\\ \n",
      "term 30 = 3.3422e-10 \\\\ \n",
      "term 31 = 6.1274e-11 \\\\ \n"
     ]
    }
   ],
   "source": [
    "last=31\n",
    "x=5.5\n",
    "num=np.zeros(last)\n",
    "den=np.arange(0,float(last),1)\n",
    "terms=np.zeros(last)\n",
    "n=0\n",
    "while n<last:\n",
    "    num[n]=expon(x,n)\n",
    "    den[n]=fact(n,den)\n",
    "    terms[n]=round_sig(num[n]/den[n],4)\n",
    "    print('term',n+1,'=',terms[n], '\\\\\\ ')\n",
    "    n=n+1"
   ]
  },
  {
   "cell_type": "code",
   "execution_count": 28,
   "metadata": {},
   "outputs": [
    {
     "name": "stdout",
     "output_type": "stream",
     "text": [
      "[1.0000e+00 5.5000e+00 1.5125e+01 2.7730e+01 3.8129e+01 4.1942e+01\n",
      " 3.8447e+01 3.0208e+01 2.0768e+01 1.2692e+01 6.9805e+00 3.4902e+00\n",
      " 1.5997e+00 6.7679e-01 2.6588e-01 9.7484e-02 3.3510e-02 1.0842e-02\n",
      " 3.3128e-03 9.5898e-04 2.6372e-04 6.9070e-05 1.7269e-05 4.1297e-06\n",
      " 9.4638e-07 2.0821e-07 4.4043e-08 8.9715e-09 1.7623e-09 3.3422e-10\n",
      " 6.1274e-11]\n"
     ]
    },
    {
     "data": {
      "image/png": "[encoded data removed]",
      "text/plain": [
       "<Figure size 432x288 with 1 Axes>"
      ]
     },
     "metadata": {},
     "output_type": "display_data"
    }
   ],
   "source": [
    "print(terms)\n",
    "t=np.arange(0,last,1)\n",
    "fig,ax = pl.subplots()\n",
    "\n",
    "ax.plot(t, terms,'o')\n",
    "\n",
    "ax.set_xlabel('n')\n",
    "ax.set_ylabel('term vaue')\n",
    "\n",
    "pl.rc('grid', linestyle=\":\", color='grey')\n",
    "pl.grid(True)"
   ]
  },
  {
   "cell_type": "code",
   "execution_count": null,
   "metadata": {},
   "outputs": [],
   "source": [
    "def summation_left(terms,k,val,S):    \n",
    "    y=0\n",
    "    if k==0:\n",
    "        y=val\n",
    "    else:\n",
    "        y=round_sig(S[k-1]+val,4)\n",
    "    return y"
   ]
  },
  {
   "cell_type": "code",
   "execution_count": null,
   "metadata": {},
   "outputs": [],
   "source": [
    "S=np.arange(0.,31.,1)\n",
    "for i,val in enumerate(terms):\n",
    "    S[i]=summation_left(terms,i,val,S)\n",
    "    print('S_{',i,'} =',S[i], '\\\\\\ ')"
   ]
  },
  {
   "cell_type": "code",
   "execution_count": null,
   "metadata": {},
   "outputs": [],
   "source": [
    "def summation_right(terms,k):\n",
    "    y=0\n",
    "    if k==0:\n",
    "        y=terms[k]\n",
    "    else:\n",
    "        y=round_sig(terms[0]+summation_right(terms[1:k+1],k-1),4)\n",
    "#     print(k,y)\n",
    "    return y"
   ]
  },
  {
   "cell_type": "code",
   "execution_count": null,
   "metadata": {
    "scrolled": false
   },
   "outputs": [],
   "source": [
    "right=np.arange(0.,31.,1)\n",
    "for i,val in enumerate(terms):\n",
    "    right[i]=summation_right(terms,i)\n",
    "    print('S_{',i,'} =',right[i], '\\\\\\ ')"
   ]
  },
  {
   "cell_type": "code",
   "execution_count": null,
   "metadata": {},
   "outputs": [],
   "source": [
    "correct=np.exp(5.5)\n",
    "print(correct)\n",
    "rel_err=abs((correct-S)/correct)\n",
    "print(rel_err[-1])\n",
    "rel_err_r=abs((right-correct)/correct)\n",
    "print(rel_err_r[-1])"
   ]
  },
  {
   "cell_type": "code",
   "execution_count": null,
   "metadata": {},
   "outputs": [],
   "source": [
    "odd=np.zeros(last)\n",
    "part_d=np.zeros(5)\n",
    "rel_err=np.zeros(5)\n",
    "\n",
    "for idx,i in enumerate(terms):\n",
    "    if idx % 2 == 0:\n",
    "        odd[idx]=i\n",
    "    else:\n",
    "        odd[idx]=-i\n",
    "print(odd)\n",
    "fig,ax = pl.subplots()\n",
    "\n",
    "ax.plot(t, odd,'o')\n",
    "\n",
    "ax.set_xlabel('n')\n",
    "ax.set_ylabel('term vaue')\n",
    "\n",
    "pl.rc('grid', linestyle=\":\", color='grey')\n",
    "pl.grid(True)"
   ]
  },
  {
   "cell_type": "code",
   "execution_count": null,
   "metadata": {},
   "outputs": [],
   "source": [
    "S_1=np.arange(0.,31.,1)\n",
    "for i,val in enumerate(odd):\n",
    "    S_1[i]=summation_left(terms,i,val,S_1)\n",
    "    print('S_{',i,'} =',S_1[i], ' \\\\\\ ')\n",
    "\n",
    "part_d[0]=S_1[-1]"
   ]
  },
  {
   "cell_type": "code",
   "execution_count": null,
   "metadata": {},
   "outputs": [],
   "source": [
    "part_2=np.arange(0.,31.,1)\n",
    "for i,val in enumerate(odd):\n",
    "    part_2[i]=summation_right(odd,i)\n",
    "    print('S_{',i,'} =',part_2[i],'\\\\\\ ')\n",
    "\n",
    "part_d[1]=part_2[-1]"
   ]
  },
  {
   "cell_type": "code",
   "execution_count": null,
   "metadata": {},
   "outputs": [],
   "source": [
    "pos=np.zeros(int(last/2)+1)\n",
    "neg=np.zeros(int(last/2))\n",
    "\n",
    "for idx,i in enumerate(odd):\n",
    "    if idx % 2 == 0:\n",
    "        pos[int(idx/2)]=i\n",
    "    else:\n",
    "        neg[int((idx-1)/2)]=i\n",
    "print(pos,'\\n',neg)"
   ]
  },
  {
   "cell_type": "code",
   "execution_count": null,
   "metadata": {},
   "outputs": [],
   "source": [
    "positive=np.arange(0.,31.,1)\n",
    "negative=np.arange(0.,31.,1)\n",
    "part_3=np.arange(0.,31.,1)\n",
    "\n",
    "for i,val in enumerate(pos):\n",
    "    positive[i]=summation_left(pos,i,val,positive)\n",
    "#     print('positive_{',i,'} =',positive[i], ' \\\\\\ ')\n",
    "    \n",
    "for i,val in enumerate(neg):\n",
    "    negative[i]=summation_left(neg,i,val,negative)\n",
    "#     print('negative_{',i,'} =',negative[i], ' \\\\\\ ')\n",
    "    \n",
    "for i,val in enumerate(odd):\n",
    "    if i==0:\n",
    "        part_3[i]=val\n",
    "    elif i==1:\n",
    "        part_3[i]=round_sig(positive[0]+negative[0],4)\n",
    "    elif i % 2 == 0: #even\n",
    "        part_3[i]=round_sig(positive[int(i/2)]+negative[int((i/2)-1)],4)\n",
    "    else:\n",
    "        part_3[i]=round_sig(positive[int(i-((i+1)/2))]+negative[int(i-((i+1)/2))],4)\n",
    "    print('S_{',i,'} =',part_3[i], ' \\\\\\ ')\n",
    "\n",
    "part_d[2]=part_3[-1]"
   ]
  },
  {
   "cell_type": "code",
   "execution_count": null,
   "metadata": {},
   "outputs": [],
   "source": [
    "positive=np.arange(0.,31.,1)\n",
    "negative=np.arange(0.,31.,1)\n",
    "part_4=np.arange(0.,31.,1)\n",
    "for i,val in enumerate(odd):\n",
    "    if i == 0:\n",
    "        part_4[i]=val\n",
    "    elif i==1:\n",
    "        part_4[i]=summation_left(odd,i,val,part_3)\n",
    "    else:\n",
    "        positive[i]=summation_right(pos,int(i/2))\n",
    "        negative[i]=summation_right(neg,int(i-((i+1)/2)))\n",
    "        part_4[i]=round_sig(positive[i]+negative[i],4)\n",
    "    print('S_{',i,'} =',part_4[i], ' \\\\\\ ')\n",
    "\n",
    "part_d[3]=part_4[-1]"
   ]
  },
  {
   "cell_type": "code",
   "execution_count": null,
   "metadata": {},
   "outputs": [],
   "source": [
    "part_e=np.arange(0.,31.,1)\n",
    "for i,val in enumerate(terms):\n",
    "    part_e[i]=round_sig(1/S[i],4)\n",
    "    print('S_{',i,'} =',part_e[i], ' \\\\\\ ')\n",
    "\n",
    "part_d[4]=part_e[-1]\n",
    "\n",
    "print(part_d)\n",
    "\n",
    "correct_neg=np.exp(-5.5)\n",
    "print('correct_neg',correct_neg)\n",
    "for idx,i in enumerate(part_d):\n",
    "    rel_err[idx]=abs((i-correct_neg)/correct_neg)\n",
    "print(rel_err)"
   ]
  },
  {
   "cell_type": "code",
   "execution_count": null,
   "metadata": {},
   "outputs": [],
   "source": []
  },
  {
   "cell_type": "code",
   "execution_count": null,
   "metadata": {},
   "outputs": [],
   "source": []
  },
  {
   "cell_type": "code",
   "execution_count": null,
   "metadata": {},
   "outputs": [],
   "source": []
  }
 ],
 "metadata": {
  "kernelspec": {
   "display_name": "Python 3",
   "language": "python",
   "name": "python3"
  },
  "language_info": {
   "codemirror_mode": {
    "name": "ipython",
    "version": 3
   },
   "file_extension": ".py",
   "mimetype": "text/x-python",
   "name": "python",
   "nbconvert_exporter": "python",
   "pygments_lexer": "ipython3",
   "version": "3.6.5"
  }
 },
 "nbformat": 4,
 "nbformat_minor": 2
}
