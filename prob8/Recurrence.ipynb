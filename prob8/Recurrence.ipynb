{
 "cells": [
  {
   "cell_type": "code",
   "execution_count": 76,
   "metadata": {
    "scrolled": true
   },
   "outputs": [
    {
     "name": "stdout",
     "output_type": "stream",
     "text": [
      "20!/eps= 1.0956816577453247e+34 \n",
      "\n",
      "Minimum N! 2.631308369336935e+35 \n",
      "\n",
      "y_{ 32 }&= 0.0 \\\\ \n",
      "y_{ 31 }&= 0.08494630713934516 \\\\ \n",
      "y_{ 30 }&= 0.08494630713934516 \\\\ \n",
      "y_{ 29 }&= 0.08777785071065666 \\\\ \n",
      "y_{ 28 }&= 0.09070703371546167 \\\\ \n",
      "y_{ 27 }&= 0.09384195695512798 \\\\ \n",
      "y_{ 26 }&= 0.0972014767223673 \\\\ \n",
      "y_{ 25 }&= 0.10081078275910299 \\\\ \n",
      "y_{ 24 }&= 0.10469884182799769 \\\\ \n",
      "y_{ 23 }&= 0.10889929110962698 \\\\ \n",
      "y_{ 22 }&= 0.113451414667366 \\\\ \n",
      "y_{ 21 }&= 0.11840138244507631 \\\\ \n",
      "y_{ 20 }&= 0.12380383076256993 \\\\ \n"
     ]
    }
   ],
   "source": [
    "import numpy as np\n",
    "import math\n",
    "\n",
    "eps = np.finfo(float).eps\n",
    "num = math.factorial(20)\n",
    "N=num/eps\n",
    "print('20!/eps=',N,'\\n')\n",
    "test = math.factorial(32)\n",
    "print('Minimum N!',float(test),'\\n')\n",
    "\n",
    "n=32.\n",
    "\n",
    "k=np.arange(n,19,-1)\n",
    "\n",
    "y=np.zeros(len(k))\n",
    "\n",
    "for idx,k in enumerate(k):\n",
    "    if idx != 0: \n",
    "        k=float(k)\n",
    "        y[idx]=(np.exp(1)-y[idx-1])/(k+1)\n",
    "    print('y_{',int(k),'}&=',y[idx],'\\\\\\ ')"
   ]
  },
  {
   "cell_type": "code",
   "execution_count": null,
   "metadata": {},
   "outputs": [],
   "source": []
  }
 ],
 "metadata": {
  "kernelspec": {
   "display_name": "Python 3",
   "language": "python",
   "name": "python3"
  },
  "language_info": {
   "codemirror_mode": {
    "name": "ipython",
    "version": 3
   },
   "file_extension": ".py",
   "mimetype": "text/x-python",
   "name": "python",
   "nbconvert_exporter": "python",
   "pygments_lexer": "ipython3",
   "version": "3.6.5"
  }
 },
 "nbformat": 4,
 "nbformat_minor": 2
}
